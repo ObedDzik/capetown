{
 "cells": [
  {
   "cell_type": "code",
   "execution_count": 157,
   "metadata": {},
   "outputs": [],
   "source": [
    "import pandas as pd\n",
    "import numpy as np\n",
    "import xgboost as xgb\n",
    "from sklearn.metrics import mean_squared_error\n",
    "from math import sqrt\n",
    "import optuna\n",
    "from sklearn.model_selection import train_test_split\n",
    "from sklearn.preprocessing import LabelEncoder, OneHotEncoder"
   ]
  },
  {
   "cell_type": "code",
   "execution_count": 114,
   "metadata": {},
   "outputs": [],
   "source": [
    "#Load dataset\n",
    "df = pd.read_csv('cape_town_houses.csv')"
   ]
  },
  {
   "cell_type": "code",
   "execution_count": 115,
   "metadata": {},
   "outputs": [
    {
     "data": {
      "text/html": [
       "<div>\n",
       "<style scoped>\n",
       "    .dataframe tbody tr th:only-of-type {\n",
       "        vertical-align: middle;\n",
       "    }\n",
       "\n",
       "    .dataframe tbody tr th {\n",
       "        vertical-align: top;\n",
       "    }\n",
       "\n",
       "    .dataframe thead th {\n",
       "        text-align: right;\n",
       "    }\n",
       "</style>\n",
       "<table border=\"1\" class=\"dataframe\">\n",
       "  <thead>\n",
       "    <tr style=\"text-align: right;\">\n",
       "      <th></th>\n",
       "      <th>num_bedroom</th>\n",
       "      <th>location</th>\n",
       "      <th>bedroom_width</th>\n",
       "      <th>bedroom_height</th>\n",
       "      <th>bathroom_width</th>\n",
       "      <th>bathroom_height</th>\n",
       "      <th>garage_width</th>\n",
       "      <th>garage_height</th>\n",
       "      <th>erf_size</th>\n",
       "      <th>bath_amenities</th>\n",
       "      <th>car_parks</th>\n",
       "      <th>price</th>\n",
       "    </tr>\n",
       "  </thead>\n",
       "  <tbody>\n",
       "    <tr>\n",
       "      <th>0</th>\n",
       "      <td>3.0</td>\n",
       "      <td>Woodstock</td>\n",
       "      <td>20.0</td>\n",
       "      <td>20.0</td>\n",
       "      <td>20.0</td>\n",
       "      <td>20.0</td>\n",
       "      <td>20.0</td>\n",
       "      <td>20.0</td>\n",
       "      <td>411</td>\n",
       "      <td>NaN</td>\n",
       "      <td>NaN</td>\n",
       "      <td>2562589</td>\n",
       "    </tr>\n",
       "    <tr>\n",
       "      <th>1</th>\n",
       "      <td>3.0</td>\n",
       "      <td>Walmer Estate</td>\n",
       "      <td>20.0</td>\n",
       "      <td>20.0</td>\n",
       "      <td>20.0</td>\n",
       "      <td>20.0</td>\n",
       "      <td>20.0</td>\n",
       "      <td>20.0</td>\n",
       "      <td>629</td>\n",
       "      <td>NaN</td>\n",
       "      <td>NaN</td>\n",
       "      <td>12303468</td>\n",
       "    </tr>\n",
       "    <tr>\n",
       "      <th>2</th>\n",
       "      <td>3.0</td>\n",
       "      <td>Woodstock</td>\n",
       "      <td>20.0</td>\n",
       "      <td>20.0</td>\n",
       "      <td>20.0</td>\n",
       "      <td>20.0</td>\n",
       "      <td>20.0</td>\n",
       "      <td>20.0</td>\n",
       "      <td>315</td>\n",
       "      <td>NaN</td>\n",
       "      <td>NaN</td>\n",
       "      <td>23102374</td>\n",
       "    </tr>\n",
       "    <tr>\n",
       "      <th>3</th>\n",
       "      <td>3.0</td>\n",
       "      <td>Woodstock</td>\n",
       "      <td>20.0</td>\n",
       "      <td>20.0</td>\n",
       "      <td>20.0</td>\n",
       "      <td>20.0</td>\n",
       "      <td>NaN</td>\n",
       "      <td>NaN</td>\n",
       "      <td>541</td>\n",
       "      <td>NaN</td>\n",
       "      <td>NaN</td>\n",
       "      <td>32805211</td>\n",
       "    </tr>\n",
       "    <tr>\n",
       "      <th>4</th>\n",
       "      <td>4.0</td>\n",
       "      <td>Oranjezicht</td>\n",
       "      <td>20.0</td>\n",
       "      <td>20.0</td>\n",
       "      <td>20.0</td>\n",
       "      <td>20.0</td>\n",
       "      <td>20.0</td>\n",
       "      <td>20.0</td>\n",
       "      <td>528</td>\n",
       "      <td>NaN</td>\n",
       "      <td>NaN</td>\n",
       "      <td>11605296</td>\n",
       "    </tr>\n",
       "  </tbody>\n",
       "</table>\n",
       "</div>"
      ],
      "text/plain": [
       "   num_bedroom       location  bedroom_width  bedroom_height  bathroom_width  \\\n",
       "0          3.0      Woodstock           20.0            20.0            20.0   \n",
       "1          3.0  Walmer Estate           20.0            20.0            20.0   \n",
       "2          3.0      Woodstock           20.0            20.0            20.0   \n",
       "3          3.0      Woodstock           20.0            20.0            20.0   \n",
       "4          4.0    Oranjezicht           20.0            20.0            20.0   \n",
       "\n",
       "   bathroom_height  garage_width  garage_height  erf_size  bath_amenities  \\\n",
       "0             20.0          20.0           20.0       411             NaN   \n",
       "1             20.0          20.0           20.0       629             NaN   \n",
       "2             20.0          20.0           20.0       315             NaN   \n",
       "3             20.0           NaN            NaN       541             NaN   \n",
       "4             20.0          20.0           20.0       528             NaN   \n",
       "\n",
       "   car_parks     price  \n",
       "0        NaN   2562589  \n",
       "1        NaN  12303468  \n",
       "2        NaN  23102374  \n",
       "3        NaN  32805211  \n",
       "4        NaN  11605296  "
      ]
     },
     "execution_count": 115,
     "metadata": {},
     "output_type": "execute_result"
    }
   ],
   "source": [
    "#View first 5 rows\n",
    "df.head()"
   ]
  },
  {
   "cell_type": "code",
   "execution_count": 116,
   "metadata": {},
   "outputs": [
    {
     "data": {
      "text/html": [
       "<div>\n",
       "<style scoped>\n",
       "    .dataframe tbody tr th:only-of-type {\n",
       "        vertical-align: middle;\n",
       "    }\n",
       "\n",
       "    .dataframe tbody tr th {\n",
       "        vertical-align: top;\n",
       "    }\n",
       "\n",
       "    .dataframe thead th {\n",
       "        text-align: right;\n",
       "    }\n",
       "</style>\n",
       "<table border=\"1\" class=\"dataframe\">\n",
       "  <thead>\n",
       "    <tr style=\"text-align: right;\">\n",
       "      <th></th>\n",
       "      <th>num_bedroom</th>\n",
       "      <th>bedroom_width</th>\n",
       "      <th>bedroom_height</th>\n",
       "      <th>bathroom_width</th>\n",
       "      <th>bathroom_height</th>\n",
       "      <th>garage_width</th>\n",
       "      <th>garage_height</th>\n",
       "      <th>erf_size</th>\n",
       "      <th>bath_amenities</th>\n",
       "      <th>car_parks</th>\n",
       "      <th>price</th>\n",
       "    </tr>\n",
       "  </thead>\n",
       "  <tbody>\n",
       "    <tr>\n",
       "      <th>count</th>\n",
       "      <td>2425.000000</td>\n",
       "      <td>455.0</td>\n",
       "      <td>455.0</td>\n",
       "      <td>459.0</td>\n",
       "      <td>459.0</td>\n",
       "      <td>293.0</td>\n",
       "      <td>293.0</td>\n",
       "      <td>2536.000000</td>\n",
       "      <td>1997.000000</td>\n",
       "      <td>1997.000000</td>\n",
       "      <td>2.536000e+03</td>\n",
       "    </tr>\n",
       "    <tr>\n",
       "      <th>mean</th>\n",
       "      <td>2.905773</td>\n",
       "      <td>20.0</td>\n",
       "      <td>20.0</td>\n",
       "      <td>20.0</td>\n",
       "      <td>20.0</td>\n",
       "      <td>20.0</td>\n",
       "      <td>20.0</td>\n",
       "      <td>427.194401</td>\n",
       "      <td>2.056335</td>\n",
       "      <td>2.056335</td>\n",
       "      <td>1.985194e+07</td>\n",
       "    </tr>\n",
       "    <tr>\n",
       "      <th>std</th>\n",
       "      <td>2.069215</td>\n",
       "      <td>0.0</td>\n",
       "      <td>0.0</td>\n",
       "      <td>0.0</td>\n",
       "      <td>0.0</td>\n",
       "      <td>0.0</td>\n",
       "      <td>0.0</td>\n",
       "      <td>159.504612</td>\n",
       "      <td>1.502988</td>\n",
       "      <td>1.502988</td>\n",
       "      <td>1.012477e+07</td>\n",
       "    </tr>\n",
       "    <tr>\n",
       "      <th>min</th>\n",
       "      <td>0.500000</td>\n",
       "      <td>20.0</td>\n",
       "      <td>20.0</td>\n",
       "      <td>20.0</td>\n",
       "      <td>20.0</td>\n",
       "      <td>20.0</td>\n",
       "      <td>20.0</td>\n",
       "      <td>150.000000</td>\n",
       "      <td>0.500000</td>\n",
       "      <td>0.500000</td>\n",
       "      <td>2.562589e+06</td>\n",
       "    </tr>\n",
       "    <tr>\n",
       "      <th>25%</th>\n",
       "      <td>2.000000</td>\n",
       "      <td>20.0</td>\n",
       "      <td>20.0</td>\n",
       "      <td>20.0</td>\n",
       "      <td>20.0</td>\n",
       "      <td>20.0</td>\n",
       "      <td>20.0</td>\n",
       "      <td>288.000000</td>\n",
       "      <td>1.000000</td>\n",
       "      <td>1.000000</td>\n",
       "      <td>1.111045e+07</td>\n",
       "    </tr>\n",
       "    <tr>\n",
       "      <th>50%</th>\n",
       "      <td>3.000000</td>\n",
       "      <td>20.0</td>\n",
       "      <td>20.0</td>\n",
       "      <td>20.0</td>\n",
       "      <td>20.0</td>\n",
       "      <td>20.0</td>\n",
       "      <td>20.0</td>\n",
       "      <td>425.000000</td>\n",
       "      <td>2.000000</td>\n",
       "      <td>2.000000</td>\n",
       "      <td>1.986649e+07</td>\n",
       "    </tr>\n",
       "    <tr>\n",
       "      <th>75%</th>\n",
       "      <td>3.000000</td>\n",
       "      <td>20.0</td>\n",
       "      <td>20.0</td>\n",
       "      <td>20.0</td>\n",
       "      <td>20.0</td>\n",
       "      <td>20.0</td>\n",
       "      <td>20.0</td>\n",
       "      <td>565.250000</td>\n",
       "      <td>2.500000</td>\n",
       "      <td>2.500000</td>\n",
       "      <td>2.863467e+07</td>\n",
       "    </tr>\n",
       "    <tr>\n",
       "      <th>max</th>\n",
       "      <td>33.000000</td>\n",
       "      <td>20.0</td>\n",
       "      <td>20.0</td>\n",
       "      <td>20.0</td>\n",
       "      <td>20.0</td>\n",
       "      <td>20.0</td>\n",
       "      <td>20.0</td>\n",
       "      <td>700.000000</td>\n",
       "      <td>25.000000</td>\n",
       "      <td>25.000000</td>\n",
       "      <td>3.699444e+07</td>\n",
       "    </tr>\n",
       "  </tbody>\n",
       "</table>\n",
       "</div>"
      ],
      "text/plain": [
       "       num_bedroom  bedroom_width  bedroom_height  bathroom_width  \\\n",
       "count  2425.000000          455.0           455.0           459.0   \n",
       "mean      2.905773           20.0            20.0            20.0   \n",
       "std       2.069215            0.0             0.0             0.0   \n",
       "min       0.500000           20.0            20.0            20.0   \n",
       "25%       2.000000           20.0            20.0            20.0   \n",
       "50%       3.000000           20.0            20.0            20.0   \n",
       "75%       3.000000           20.0            20.0            20.0   \n",
       "max      33.000000           20.0            20.0            20.0   \n",
       "\n",
       "       bathroom_height  garage_width  garage_height     erf_size  \\\n",
       "count            459.0         293.0          293.0  2536.000000   \n",
       "mean              20.0          20.0           20.0   427.194401   \n",
       "std                0.0           0.0            0.0   159.504612   \n",
       "min               20.0          20.0           20.0   150.000000   \n",
       "25%               20.0          20.0           20.0   288.000000   \n",
       "50%               20.0          20.0           20.0   425.000000   \n",
       "75%               20.0          20.0           20.0   565.250000   \n",
       "max               20.0          20.0           20.0   700.000000   \n",
       "\n",
       "       bath_amenities    car_parks         price  \n",
       "count     1997.000000  1997.000000  2.536000e+03  \n",
       "mean         2.056335     2.056335  1.985194e+07  \n",
       "std          1.502988     1.502988  1.012477e+07  \n",
       "min          0.500000     0.500000  2.562589e+06  \n",
       "25%          1.000000     1.000000  1.111045e+07  \n",
       "50%          2.000000     2.000000  1.986649e+07  \n",
       "75%          2.500000     2.500000  2.863467e+07  \n",
       "max         25.000000    25.000000  3.699444e+07  "
      ]
     },
     "execution_count": 116,
     "metadata": {},
     "output_type": "execute_result"
    }
   ],
   "source": [
    "df.describe()"
   ]
  },
  {
   "cell_type": "code",
   "execution_count": 117,
   "metadata": {},
   "outputs": [
    {
     "name": "stdout",
     "output_type": "stream",
     "text": [
      "<class 'pandas.core.frame.DataFrame'>\n",
      "RangeIndex: 2536 entries, 0 to 2535\n",
      "Data columns (total 12 columns):\n",
      " #   Column           Non-Null Count  Dtype  \n",
      "---  ------           --------------  -----  \n",
      " 0   num_bedroom      2425 non-null   float64\n",
      " 1   location         753 non-null    object \n",
      " 2   bedroom_width    455 non-null    float64\n",
      " 3   bedroom_height   455 non-null    float64\n",
      " 4   bathroom_width   459 non-null    float64\n",
      " 5   bathroom_height  459 non-null    float64\n",
      " 6   garage_width     293 non-null    float64\n",
      " 7   garage_height    293 non-null    float64\n",
      " 8   erf_size         2536 non-null   int64  \n",
      " 9   bath_amenities   1997 non-null   float64\n",
      " 10  car_parks        1997 non-null   float64\n",
      " 11  price            2536 non-null   int64  \n",
      "dtypes: float64(9), int64(2), object(1)\n",
      "memory usage: 237.9+ KB\n"
     ]
    }
   ],
   "source": [
    "df.info()"
   ]
  },
  {
   "cell_type": "code",
   "execution_count": 118,
   "metadata": {},
   "outputs": [
    {
     "data": {
      "text/plain": [
       "num_bedroom         111\n",
       "location           1783\n",
       "bedroom_width      2081\n",
       "bedroom_height     2081\n",
       "bathroom_width     2077\n",
       "bathroom_height    2077\n",
       "garage_width       2243\n",
       "garage_height      2243\n",
       "erf_size              0\n",
       "bath_amenities      539\n",
       "car_parks           539\n",
       "price                 0\n",
       "dtype: int64"
      ]
     },
     "execution_count": 118,
     "metadata": {},
     "output_type": "execute_result"
    }
   ],
   "source": [
    "df.isnull().sum()"
   ]
  },
  {
   "cell_type": "code",
   "execution_count": 119,
   "metadata": {},
   "outputs": [],
   "source": [
    "#Fill null values \n",
    "bedroom_mode=df['num_bedroom'].mode()\n",
    "df['num_bedroom'].fillna(bedroom_mode[0], inplace=True)\n",
    "\n",
    "location_mode=df['location'].mode()\n",
    "df['location'].fillna(bedroom_mode[0], inplace=True)\n",
    "\n",
    "bedroom_width_mode=df['bedroom_width'].mode()\n",
    "df['bedroom_width'].fillna(bedroom_width_mode[0], inplace=True)\n",
    "\n",
    "bedroom_height_mode=df['bedroom_height'].mode()\n",
    "df['bedroom_height'].fillna(bedroom_height_mode[0], inplace=True)\n",
    "\n",
    "garage_width_mode=df['garage_width'].mode()\n",
    "df['garage_width'].fillna(garage_width_mode[0], inplace=True)\n",
    "\n",
    "garage_height_mode=df['garage_height'].mode()\n",
    "df['garage_height'].fillna(garage_height_mode[0], inplace=True)\n",
    "\n",
    "bath_mode=df['bath_amenities'].mode()\n",
    "df['bath_amenities'].fillna(bath_mode[0], inplace=True)\n",
    "\n",
    "car_mode=df['car_parks'].mode()\n",
    "df['car_parks'].fillna(car_mode[0], inplace=True)\n",
    "\n",
    "bathroom_width_mode=df['bathroom_width'].mode()\n",
    "df['bathroom_width'].fillna(bathroom_width_mode[0], inplace=True)\n",
    "\n",
    "bathroom_height_mode=df['bathroom_height'].mode()\n",
    "df['bathroom_height'].fillna(bathroom_height_mode[0], inplace=True)"
   ]
  },
  {
   "cell_type": "code",
   "execution_count": 125,
   "metadata": {},
   "outputs": [],
   "source": [
    "#Encoding categorical data\n",
    "\n",
    "df = pd.concat([df,pd.get_dummies(df['location'], prefix='location')],axis=1)\n",
    "\n",
    "df.drop(['location'],axis=1, inplace=True)"
   ]
  },
  {
   "cell_type": "code",
   "execution_count": 126,
   "metadata": {},
   "outputs": [
    {
     "data": {
      "text/html": [
       "<div>\n",
       "<style scoped>\n",
       "    .dataframe tbody tr th:only-of-type {\n",
       "        vertical-align: middle;\n",
       "    }\n",
       "\n",
       "    .dataframe tbody tr th {\n",
       "        vertical-align: top;\n",
       "    }\n",
       "\n",
       "    .dataframe thead th {\n",
       "        text-align: right;\n",
       "    }\n",
       "</style>\n",
       "<table border=\"1\" class=\"dataframe\">\n",
       "  <thead>\n",
       "    <tr style=\"text-align: right;\">\n",
       "      <th></th>\n",
       "      <th>num_bedroom</th>\n",
       "      <th>bedroom_width</th>\n",
       "      <th>bedroom_height</th>\n",
       "      <th>bathroom_width</th>\n",
       "      <th>bathroom_height</th>\n",
       "      <th>garage_width</th>\n",
       "      <th>garage_height</th>\n",
       "      <th>erf_size</th>\n",
       "      <th>bath_amenities</th>\n",
       "      <th>car_parks</th>\n",
       "      <th>...</th>\n",
       "      <th>location_Mouille Point</th>\n",
       "      <th>location_Oranjezicht</th>\n",
       "      <th>location_Rondebosch Village</th>\n",
       "      <th>location_SCHOONGEZICHT</th>\n",
       "      <th>location_Tamboerskloof</th>\n",
       "      <th>location_University Estate</th>\n",
       "      <th>location_Vredehoek</th>\n",
       "      <th>location_Walmer Estate</th>\n",
       "      <th>location_Woodstock</th>\n",
       "      <th>location_Zonnebloem</th>\n",
       "    </tr>\n",
       "  </thead>\n",
       "  <tbody>\n",
       "    <tr>\n",
       "      <th>0</th>\n",
       "      <td>3.0</td>\n",
       "      <td>20.0</td>\n",
       "      <td>20.0</td>\n",
       "      <td>20.0</td>\n",
       "      <td>20.0</td>\n",
       "      <td>20.0</td>\n",
       "      <td>20.0</td>\n",
       "      <td>411</td>\n",
       "      <td>1.0</td>\n",
       "      <td>1.0</td>\n",
       "      <td>...</td>\n",
       "      <td>0</td>\n",
       "      <td>0</td>\n",
       "      <td>0</td>\n",
       "      <td>0</td>\n",
       "      <td>0</td>\n",
       "      <td>0</td>\n",
       "      <td>0</td>\n",
       "      <td>0</td>\n",
       "      <td>1</td>\n",
       "      <td>0</td>\n",
       "    </tr>\n",
       "    <tr>\n",
       "      <th>1</th>\n",
       "      <td>3.0</td>\n",
       "      <td>20.0</td>\n",
       "      <td>20.0</td>\n",
       "      <td>20.0</td>\n",
       "      <td>20.0</td>\n",
       "      <td>20.0</td>\n",
       "      <td>20.0</td>\n",
       "      <td>629</td>\n",
       "      <td>1.0</td>\n",
       "      <td>1.0</td>\n",
       "      <td>...</td>\n",
       "      <td>0</td>\n",
       "      <td>0</td>\n",
       "      <td>0</td>\n",
       "      <td>0</td>\n",
       "      <td>0</td>\n",
       "      <td>0</td>\n",
       "      <td>0</td>\n",
       "      <td>1</td>\n",
       "      <td>0</td>\n",
       "      <td>0</td>\n",
       "    </tr>\n",
       "    <tr>\n",
       "      <th>2</th>\n",
       "      <td>3.0</td>\n",
       "      <td>20.0</td>\n",
       "      <td>20.0</td>\n",
       "      <td>20.0</td>\n",
       "      <td>20.0</td>\n",
       "      <td>20.0</td>\n",
       "      <td>20.0</td>\n",
       "      <td>315</td>\n",
       "      <td>1.0</td>\n",
       "      <td>1.0</td>\n",
       "      <td>...</td>\n",
       "      <td>0</td>\n",
       "      <td>0</td>\n",
       "      <td>0</td>\n",
       "      <td>0</td>\n",
       "      <td>0</td>\n",
       "      <td>0</td>\n",
       "      <td>0</td>\n",
       "      <td>0</td>\n",
       "      <td>1</td>\n",
       "      <td>0</td>\n",
       "    </tr>\n",
       "    <tr>\n",
       "      <th>3</th>\n",
       "      <td>3.0</td>\n",
       "      <td>20.0</td>\n",
       "      <td>20.0</td>\n",
       "      <td>20.0</td>\n",
       "      <td>20.0</td>\n",
       "      <td>20.0</td>\n",
       "      <td>20.0</td>\n",
       "      <td>541</td>\n",
       "      <td>1.0</td>\n",
       "      <td>1.0</td>\n",
       "      <td>...</td>\n",
       "      <td>0</td>\n",
       "      <td>0</td>\n",
       "      <td>0</td>\n",
       "      <td>0</td>\n",
       "      <td>0</td>\n",
       "      <td>0</td>\n",
       "      <td>0</td>\n",
       "      <td>0</td>\n",
       "      <td>1</td>\n",
       "      <td>0</td>\n",
       "    </tr>\n",
       "    <tr>\n",
       "      <th>4</th>\n",
       "      <td>4.0</td>\n",
       "      <td>20.0</td>\n",
       "      <td>20.0</td>\n",
       "      <td>20.0</td>\n",
       "      <td>20.0</td>\n",
       "      <td>20.0</td>\n",
       "      <td>20.0</td>\n",
       "      <td>528</td>\n",
       "      <td>1.0</td>\n",
       "      <td>1.0</td>\n",
       "      <td>...</td>\n",
       "      <td>0</td>\n",
       "      <td>1</td>\n",
       "      <td>0</td>\n",
       "      <td>0</td>\n",
       "      <td>0</td>\n",
       "      <td>0</td>\n",
       "      <td>0</td>\n",
       "      <td>0</td>\n",
       "      <td>0</td>\n",
       "      <td>0</td>\n",
       "    </tr>\n",
       "  </tbody>\n",
       "</table>\n",
       "<p>5 rows × 307 columns</p>\n",
       "</div>"
      ],
      "text/plain": [
       "   num_bedroom  bedroom_width  bedroom_height  bathroom_width  \\\n",
       "0          3.0           20.0            20.0            20.0   \n",
       "1          3.0           20.0            20.0            20.0   \n",
       "2          3.0           20.0            20.0            20.0   \n",
       "3          3.0           20.0            20.0            20.0   \n",
       "4          4.0           20.0            20.0            20.0   \n",
       "\n",
       "   bathroom_height  garage_width  garage_height  erf_size  bath_amenities  \\\n",
       "0             20.0          20.0           20.0       411             1.0   \n",
       "1             20.0          20.0           20.0       629             1.0   \n",
       "2             20.0          20.0           20.0       315             1.0   \n",
       "3             20.0          20.0           20.0       541             1.0   \n",
       "4             20.0          20.0           20.0       528             1.0   \n",
       "\n",
       "   car_parks  ...  location_Mouille Point  location_Oranjezicht  \\\n",
       "0        1.0  ...                       0                     0   \n",
       "1        1.0  ...                       0                     0   \n",
       "2        1.0  ...                       0                     0   \n",
       "3        1.0  ...                       0                     0   \n",
       "4        1.0  ...                       0                     1   \n",
       "\n",
       "   location_Rondebosch Village   location_SCHOONGEZICHT   \\\n",
       "0                             0                        0   \n",
       "1                             0                        0   \n",
       "2                             0                        0   \n",
       "3                             0                        0   \n",
       "4                             0                        0   \n",
       "\n",
       "   location_Tamboerskloof  location_University Estate  location_Vredehoek  \\\n",
       "0                       0                           0                   0   \n",
       "1                       0                           0                   0   \n",
       "2                       0                           0                   0   \n",
       "3                       0                           0                   0   \n",
       "4                       0                           0                   0   \n",
       "\n",
       "   location_Walmer Estate  location_Woodstock  location_Zonnebloem  \n",
       "0                       0                   1                    0  \n",
       "1                       1                   0                    0  \n",
       "2                       0                   1                    0  \n",
       "3                       0                   1                    0  \n",
       "4                       0                   0                    0  \n",
       "\n",
       "[5 rows x 307 columns]"
      ]
     },
     "execution_count": 126,
     "metadata": {},
     "output_type": "execute_result"
    }
   ],
   "source": [
    "df.head()"
   ]
  },
  {
   "cell_type": "code",
   "execution_count": 129,
   "metadata": {},
   "outputs": [
    {
     "data": {
      "text/plain": [
       "num_bedroom                   float64\n",
       "bedroom_width                 float64\n",
       "bedroom_height                float64\n",
       "bathroom_width                float64\n",
       "bathroom_height               float64\n",
       "                               ...   \n",
       "location_University Estate      uint8\n",
       "location_Vredehoek              uint8\n",
       "location_Walmer Estate          uint8\n",
       "location_Woodstock              uint8\n",
       "location_Zonnebloem             uint8\n",
       "Length: 307, dtype: object"
      ]
     },
     "execution_count": 129,
     "metadata": {},
     "output_type": "execute_result"
    }
   ],
   "source": [
    "df.dtypes"
   ]
  },
  {
   "cell_type": "code",
   "execution_count": 131,
   "metadata": {},
   "outputs": [
    {
     "data": {
      "text/html": [
       "<div>\n",
       "<style scoped>\n",
       "    .dataframe tbody tr th:only-of-type {\n",
       "        vertical-align: middle;\n",
       "    }\n",
       "\n",
       "    .dataframe tbody tr th {\n",
       "        vertical-align: top;\n",
       "    }\n",
       "\n",
       "    .dataframe thead th {\n",
       "        text-align: right;\n",
       "    }\n",
       "</style>\n",
       "<table border=\"1\" class=\"dataframe\">\n",
       "  <thead>\n",
       "    <tr style=\"text-align: right;\">\n",
       "      <th></th>\n",
       "      <th>num_bedroom</th>\n",
       "      <th>bedroom_width</th>\n",
       "      <th>bedroom_height</th>\n",
       "      <th>bathroom_width</th>\n",
       "      <th>bathroom_height</th>\n",
       "      <th>garage_width</th>\n",
       "      <th>garage_height</th>\n",
       "      <th>erf_size</th>\n",
       "      <th>bath_amenities</th>\n",
       "      <th>car_parks</th>\n",
       "      <th>...</th>\n",
       "      <th>location_Mouille Point</th>\n",
       "      <th>location_Oranjezicht</th>\n",
       "      <th>location_Rondebosch Village</th>\n",
       "      <th>location_SCHOONGEZICHT</th>\n",
       "      <th>location_Tamboerskloof</th>\n",
       "      <th>location_University Estate</th>\n",
       "      <th>location_Vredehoek</th>\n",
       "      <th>location_Walmer Estate</th>\n",
       "      <th>location_Woodstock</th>\n",
       "      <th>location_Zonnebloem</th>\n",
       "    </tr>\n",
       "  </thead>\n",
       "  <tbody>\n",
       "    <tr>\n",
       "      <th>count</th>\n",
       "      <td>2536.000000</td>\n",
       "      <td>2536.0</td>\n",
       "      <td>2536.0</td>\n",
       "      <td>2536.0</td>\n",
       "      <td>2536.0</td>\n",
       "      <td>2536.0</td>\n",
       "      <td>2536.0</td>\n",
       "      <td>2536.000000</td>\n",
       "      <td>2536.000000</td>\n",
       "      <td>2536.000000</td>\n",
       "      <td>...</td>\n",
       "      <td>2536.000000</td>\n",
       "      <td>2536.000000</td>\n",
       "      <td>2536.000000</td>\n",
       "      <td>2536.000000</td>\n",
       "      <td>2536.000000</td>\n",
       "      <td>2536.000000</td>\n",
       "      <td>2536.000000</td>\n",
       "      <td>2536.000000</td>\n",
       "      <td>2536.000000</td>\n",
       "      <td>2536.000000</td>\n",
       "    </tr>\n",
       "    <tr>\n",
       "      <th>mean</th>\n",
       "      <td>2.866128</td>\n",
       "      <td>20.0</td>\n",
       "      <td>20.0</td>\n",
       "      <td>20.0</td>\n",
       "      <td>20.0</td>\n",
       "      <td>20.0</td>\n",
       "      <td>20.0</td>\n",
       "      <td>427.194401</td>\n",
       "      <td>1.831822</td>\n",
       "      <td>1.831822</td>\n",
       "      <td>...</td>\n",
       "      <td>0.000394</td>\n",
       "      <td>0.022082</td>\n",
       "      <td>0.000394</td>\n",
       "      <td>0.000394</td>\n",
       "      <td>0.013407</td>\n",
       "      <td>0.001577</td>\n",
       "      <td>0.022082</td>\n",
       "      <td>0.011041</td>\n",
       "      <td>0.056388</td>\n",
       "      <td>0.005126</td>\n",
       "    </tr>\n",
       "    <tr>\n",
       "      <th>std</th>\n",
       "      <td>2.031876</td>\n",
       "      <td>0.0</td>\n",
       "      <td>0.0</td>\n",
       "      <td>0.0</td>\n",
       "      <td>0.0</td>\n",
       "      <td>0.0</td>\n",
       "      <td>0.0</td>\n",
       "      <td>159.504612</td>\n",
       "      <td>1.401960</td>\n",
       "      <td>1.401960</td>\n",
       "      <td>...</td>\n",
       "      <td>0.019858</td>\n",
       "      <td>0.146979</td>\n",
       "      <td>0.019858</td>\n",
       "      <td>0.019858</td>\n",
       "      <td>0.115032</td>\n",
       "      <td>0.039692</td>\n",
       "      <td>0.146979</td>\n",
       "      <td>0.104515</td>\n",
       "      <td>0.230715</td>\n",
       "      <td>0.071428</td>\n",
       "    </tr>\n",
       "    <tr>\n",
       "      <th>min</th>\n",
       "      <td>0.500000</td>\n",
       "      <td>20.0</td>\n",
       "      <td>20.0</td>\n",
       "      <td>20.0</td>\n",
       "      <td>20.0</td>\n",
       "      <td>20.0</td>\n",
       "      <td>20.0</td>\n",
       "      <td>150.000000</td>\n",
       "      <td>0.500000</td>\n",
       "      <td>0.500000</td>\n",
       "      <td>...</td>\n",
       "      <td>0.000000</td>\n",
       "      <td>0.000000</td>\n",
       "      <td>0.000000</td>\n",
       "      <td>0.000000</td>\n",
       "      <td>0.000000</td>\n",
       "      <td>0.000000</td>\n",
       "      <td>0.000000</td>\n",
       "      <td>0.000000</td>\n",
       "      <td>0.000000</td>\n",
       "      <td>0.000000</td>\n",
       "    </tr>\n",
       "    <tr>\n",
       "      <th>25%</th>\n",
       "      <td>2.000000</td>\n",
       "      <td>20.0</td>\n",
       "      <td>20.0</td>\n",
       "      <td>20.0</td>\n",
       "      <td>20.0</td>\n",
       "      <td>20.0</td>\n",
       "      <td>20.0</td>\n",
       "      <td>288.000000</td>\n",
       "      <td>1.000000</td>\n",
       "      <td>1.000000</td>\n",
       "      <td>...</td>\n",
       "      <td>0.000000</td>\n",
       "      <td>0.000000</td>\n",
       "      <td>0.000000</td>\n",
       "      <td>0.000000</td>\n",
       "      <td>0.000000</td>\n",
       "      <td>0.000000</td>\n",
       "      <td>0.000000</td>\n",
       "      <td>0.000000</td>\n",
       "      <td>0.000000</td>\n",
       "      <td>0.000000</td>\n",
       "    </tr>\n",
       "    <tr>\n",
       "      <th>50%</th>\n",
       "      <td>3.000000</td>\n",
       "      <td>20.0</td>\n",
       "      <td>20.0</td>\n",
       "      <td>20.0</td>\n",
       "      <td>20.0</td>\n",
       "      <td>20.0</td>\n",
       "      <td>20.0</td>\n",
       "      <td>425.000000</td>\n",
       "      <td>1.000000</td>\n",
       "      <td>1.000000</td>\n",
       "      <td>...</td>\n",
       "      <td>0.000000</td>\n",
       "      <td>0.000000</td>\n",
       "      <td>0.000000</td>\n",
       "      <td>0.000000</td>\n",
       "      <td>0.000000</td>\n",
       "      <td>0.000000</td>\n",
       "      <td>0.000000</td>\n",
       "      <td>0.000000</td>\n",
       "      <td>0.000000</td>\n",
       "      <td>0.000000</td>\n",
       "    </tr>\n",
       "    <tr>\n",
       "      <th>75%</th>\n",
       "      <td>3.000000</td>\n",
       "      <td>20.0</td>\n",
       "      <td>20.0</td>\n",
       "      <td>20.0</td>\n",
       "      <td>20.0</td>\n",
       "      <td>20.0</td>\n",
       "      <td>20.0</td>\n",
       "      <td>565.250000</td>\n",
       "      <td>2.000000</td>\n",
       "      <td>2.000000</td>\n",
       "      <td>...</td>\n",
       "      <td>0.000000</td>\n",
       "      <td>0.000000</td>\n",
       "      <td>0.000000</td>\n",
       "      <td>0.000000</td>\n",
       "      <td>0.000000</td>\n",
       "      <td>0.000000</td>\n",
       "      <td>0.000000</td>\n",
       "      <td>0.000000</td>\n",
       "      <td>0.000000</td>\n",
       "      <td>0.000000</td>\n",
       "    </tr>\n",
       "    <tr>\n",
       "      <th>max</th>\n",
       "      <td>33.000000</td>\n",
       "      <td>20.0</td>\n",
       "      <td>20.0</td>\n",
       "      <td>20.0</td>\n",
       "      <td>20.0</td>\n",
       "      <td>20.0</td>\n",
       "      <td>20.0</td>\n",
       "      <td>700.000000</td>\n",
       "      <td>25.000000</td>\n",
       "      <td>25.000000</td>\n",
       "      <td>...</td>\n",
       "      <td>1.000000</td>\n",
       "      <td>1.000000</td>\n",
       "      <td>1.000000</td>\n",
       "      <td>1.000000</td>\n",
       "      <td>1.000000</td>\n",
       "      <td>1.000000</td>\n",
       "      <td>1.000000</td>\n",
       "      <td>1.000000</td>\n",
       "      <td>1.000000</td>\n",
       "      <td>1.000000</td>\n",
       "    </tr>\n",
       "  </tbody>\n",
       "</table>\n",
       "<p>8 rows × 307 columns</p>\n",
       "</div>"
      ],
      "text/plain": [
       "       num_bedroom  bedroom_width  bedroom_height  bathroom_width  \\\n",
       "count  2536.000000         2536.0          2536.0          2536.0   \n",
       "mean      2.866128           20.0            20.0            20.0   \n",
       "std       2.031876            0.0             0.0             0.0   \n",
       "min       0.500000           20.0            20.0            20.0   \n",
       "25%       2.000000           20.0            20.0            20.0   \n",
       "50%       3.000000           20.0            20.0            20.0   \n",
       "75%       3.000000           20.0            20.0            20.0   \n",
       "max      33.000000           20.0            20.0            20.0   \n",
       "\n",
       "       bathroom_height  garage_width  garage_height     erf_size  \\\n",
       "count           2536.0        2536.0         2536.0  2536.000000   \n",
       "mean              20.0          20.0           20.0   427.194401   \n",
       "std                0.0           0.0            0.0   159.504612   \n",
       "min               20.0          20.0           20.0   150.000000   \n",
       "25%               20.0          20.0           20.0   288.000000   \n",
       "50%               20.0          20.0           20.0   425.000000   \n",
       "75%               20.0          20.0           20.0   565.250000   \n",
       "max               20.0          20.0           20.0   700.000000   \n",
       "\n",
       "       bath_amenities    car_parks  ...  location_Mouille Point  \\\n",
       "count     2536.000000  2536.000000  ...             2536.000000   \n",
       "mean         1.831822     1.831822  ...                0.000394   \n",
       "std          1.401960     1.401960  ...                0.019858   \n",
       "min          0.500000     0.500000  ...                0.000000   \n",
       "25%          1.000000     1.000000  ...                0.000000   \n",
       "50%          1.000000     1.000000  ...                0.000000   \n",
       "75%          2.000000     2.000000  ...                0.000000   \n",
       "max         25.000000    25.000000  ...                1.000000   \n",
       "\n",
       "       location_Oranjezicht  location_Rondebosch Village   \\\n",
       "count           2536.000000                   2536.000000   \n",
       "mean               0.022082                      0.000394   \n",
       "std                0.146979                      0.019858   \n",
       "min                0.000000                      0.000000   \n",
       "25%                0.000000                      0.000000   \n",
       "50%                0.000000                      0.000000   \n",
       "75%                0.000000                      0.000000   \n",
       "max                1.000000                      1.000000   \n",
       "\n",
       "       location_SCHOONGEZICHT   location_Tamboerskloof  \\\n",
       "count              2536.000000             2536.000000   \n",
       "mean                  0.000394                0.013407   \n",
       "std                   0.019858                0.115032   \n",
       "min                   0.000000                0.000000   \n",
       "25%                   0.000000                0.000000   \n",
       "50%                   0.000000                0.000000   \n",
       "75%                   0.000000                0.000000   \n",
       "max                   1.000000                1.000000   \n",
       "\n",
       "       location_University Estate  location_Vredehoek  location_Walmer Estate  \\\n",
       "count                 2536.000000         2536.000000             2536.000000   \n",
       "mean                     0.001577            0.022082                0.011041   \n",
       "std                      0.039692            0.146979                0.104515   \n",
       "min                      0.000000            0.000000                0.000000   \n",
       "25%                      0.000000            0.000000                0.000000   \n",
       "50%                      0.000000            0.000000                0.000000   \n",
       "75%                      0.000000            0.000000                0.000000   \n",
       "max                      1.000000            1.000000                1.000000   \n",
       "\n",
       "       location_Woodstock  location_Zonnebloem  \n",
       "count         2536.000000          2536.000000  \n",
       "mean             0.056388             0.005126  \n",
       "std              0.230715             0.071428  \n",
       "min              0.000000             0.000000  \n",
       "25%              0.000000             0.000000  \n",
       "50%              0.000000             0.000000  \n",
       "75%              0.000000             0.000000  \n",
       "max              1.000000             1.000000  \n",
       "\n",
       "[8 rows x 307 columns]"
      ]
     },
     "execution_count": 131,
     "metadata": {},
     "output_type": "execute_result"
    }
   ],
   "source": [
    "df.describe()"
   ]
  },
  {
   "cell_type": "code",
   "execution_count": 136,
   "metadata": {},
   "outputs": [],
   "source": [
    "#Reorder price position\n",
    "dum_price=df['price']\n",
    "df.drop('price',axis=1,inplace=True)\n",
    "df.insert(306,\"price\",dum_price)"
   ]
  },
  {
   "cell_type": "code",
   "execution_count": 142,
   "metadata": {},
   "outputs": [],
   "source": [
    "#Assign features and target\n",
    "X=df.iloc[:,:-1].values\n",
    "y=df.iloc[:,-1].values.reshape(-1,1)"
   ]
  },
  {
   "cell_type": "code",
   "execution_count": 143,
   "metadata": {},
   "outputs": [
    {
     "data": {
      "text/plain": [
       "(2536, 306)"
      ]
     },
     "execution_count": 143,
     "metadata": {},
     "output_type": "execute_result"
    }
   ],
   "source": [
    "X.shape"
   ]
  },
  {
   "cell_type": "code",
   "execution_count": 144,
   "metadata": {},
   "outputs": [
    {
     "data": {
      "text/plain": [
       "(2536, 1)"
      ]
     },
     "execution_count": 144,
     "metadata": {},
     "output_type": "execute_result"
    }
   ],
   "source": [
    "y.shape"
   ]
  },
  {
   "cell_type": "code",
   "execution_count": 145,
   "metadata": {},
   "outputs": [],
   "source": [
    "#Split data into train and test set\n",
    "X_train, X_test, y_train, y_test=train_test_split(X,y,test_size=0.25, random_state=45)"
   ]
  },
  {
   "cell_type": "code",
   "execution_count": 149,
   "metadata": {},
   "outputs": [],
   "source": [
    "#Split train data into train and validation set\n",
    "xtrain,xval,ytrain,yval=train_test_split(X_train,y_train,test_size=0.25, random_state=42)"
   ]
  },
  {
   "cell_type": "code",
   "execution_count": 154,
   "metadata": {},
   "outputs": [],
   "source": [
    "def objective(trial,xtrain=xtrain, ytrain=ytrain, xval=xval, yval=yval):\n",
    "    seed = 42\n",
    "    MODEL='xgb'\n",
    "     \n",
    "    if MODEL=='xgb':\n",
    "        print('Training xgb:')\n",
    "        score = fit_xgb(trial,xtrain,ytrain,xval,yval,seed)\n",
    "\n",
    "        return score"
   ]
  },
  {
   "cell_type": "code",
   "execution_count": 155,
   "metadata": {},
   "outputs": [],
   "source": [
    "def fit_xgb(trial,xgtrain,ygtrain,xgval,ygval,seed):\n",
    "    \n",
    "    params = {\n",
    "        'n_estimators':trial.suggest_int('n_estimators',60,200),\n",
    "        'max_depth':trial.suggest_int('max_depth',5,15),\n",
    "        'min_child_weight':trial.suggest_int('min_child_weight',1,4),\n",
    "        'subsample':trial.suggest_discrete_uniform('subsample',0.5,0.9,0.1),\n",
    "        'colsample_bytree':trial.suggest_discrete_uniform('colsample_bytree',0.5,0.9,0.1),\n",
    "        'random_state':seed\n",
    "    }\n",
    "    \n",
    "    model = xgb.XGBRegressor(**params)\n",
    "    \n",
    "    model.fit(xgtrain, ygtrain, eval_metric='rmse', verbose=True)\n",
    "    \n",
    "    # predictions\n",
    "    preds = model.predict(xgval)\n",
    "    rmse = np.sqrt(mean_squared_error(yval, preds))\n",
    "    \n",
    "    return rmse"
   ]
  },
  {
   "cell_type": "code",
   "execution_count": 160,
   "metadata": {},
   "outputs": [
    {
     "name": "stderr",
     "output_type": "stream",
     "text": [
      "[I 2020-09-25 10:51:46,600] A new study created in memory with name: no-name-c7b8d73f-b5cc-4c8d-8f29-712623b7adb0\n"
     ]
    },
    {
     "name": "stdout",
     "output_type": "stream",
     "text": [
      "Training xgb:\n"
     ]
    },
    {
     "name": "stderr",
     "output_type": "stream",
     "text": [
      "[I 2020-09-25 10:51:47,047] Trial 0 finished with value: 11595668.760212967 and parameters: {'n_estimators': 92, 'max_depth': 6, 'min_child_weight': 4, 'subsample': 0.5, 'colsample_bytree': 0.6}. Best is trial 0 with value: 11595668.760212967.\n"
     ]
    },
    {
     "name": "stdout",
     "output_type": "stream",
     "text": [
      "Training xgb:\n"
     ]
    },
    {
     "name": "stderr",
     "output_type": "stream",
     "text": [
      "[I 2020-09-25 10:51:48,844] Trial 1 finished with value: 12629102.74339038 and parameters: {'n_estimators': 158, 'max_depth': 14, 'min_child_weight': 1, 'subsample': 0.7, 'colsample_bytree': 0.7}. Best is trial 0 with value: 11595668.760212967.\n"
     ]
    },
    {
     "name": "stdout",
     "output_type": "stream",
     "text": [
      "Training xgb:\n"
     ]
    },
    {
     "name": "stderr",
     "output_type": "stream",
     "text": [
      "[I 2020-09-25 10:51:50,587] Trial 2 finished with value: 13178222.93027297 and parameters: {'n_estimators': 169, 'max_depth': 15, 'min_child_weight': 1, 'subsample': 0.5, 'colsample_bytree': 0.5}. Best is trial 0 with value: 11595668.760212967.\n"
     ]
    },
    {
     "name": "stdout",
     "output_type": "stream",
     "text": [
      "Training xgb:\n"
     ]
    },
    {
     "name": "stderr",
     "output_type": "stream",
     "text": [
      "[I 2020-09-25 10:51:51,240] Trial 3 finished with value: 11218389.459529381 and parameters: {'n_estimators': 133, 'max_depth': 5, 'min_child_weight': 1, 'subsample': 0.9, 'colsample_bytree': 0.7}. Best is trial 3 with value: 11218389.459529381.\n"
     ]
    },
    {
     "name": "stdout",
     "output_type": "stream",
     "text": [
      "Training xgb:\n"
     ]
    },
    {
     "name": "stderr",
     "output_type": "stream",
     "text": [
      "[I 2020-09-25 10:51:52,695] Trial 4 finished with value: 12901476.524083842 and parameters: {'n_estimators': 188, 'max_depth': 8, 'min_child_weight': 3, 'subsample': 0.8, 'colsample_bytree': 0.8}. Best is trial 3 with value: 11218389.459529381.\n"
     ]
    },
    {
     "name": "stdout",
     "output_type": "stream",
     "text": [
      "Training xgb:\n"
     ]
    },
    {
     "name": "stderr",
     "output_type": "stream",
     "text": [
      "[I 2020-09-25 10:51:53,845] Trial 5 finished with value: 13123123.848357016 and parameters: {'n_estimators': 153, 'max_depth': 10, 'min_child_weight': 1, 'subsample': 0.5, 'colsample_bytree': 0.7}. Best is trial 3 with value: 11218389.459529381.\n"
     ]
    },
    {
     "name": "stdout",
     "output_type": "stream",
     "text": [
      "Training xgb:\n"
     ]
    },
    {
     "name": "stderr",
     "output_type": "stream",
     "text": [
      "[I 2020-09-25 10:51:54,487] Trial 6 finished with value: 12359803.333701048 and parameters: {'n_estimators': 79, 'max_depth': 15, 'min_child_weight': 4, 'subsample': 0.5, 'colsample_bytree': 0.6}. Best is trial 3 with value: 11218389.459529381.\n"
     ]
    },
    {
     "name": "stdout",
     "output_type": "stream",
     "text": [
      "Training xgb:\n"
     ]
    },
    {
     "name": "stderr",
     "output_type": "stream",
     "text": [
      "[I 2020-09-25 10:51:55,625] Trial 7 finished with value: 12865380.11207698 and parameters: {'n_estimators': 111, 'max_depth': 11, 'min_child_weight': 3, 'subsample': 0.8, 'colsample_bytree': 0.8}. Best is trial 3 with value: 11218389.459529381.\n"
     ]
    },
    {
     "name": "stdout",
     "output_type": "stream",
     "text": [
      "Training xgb:\n"
     ]
    },
    {
     "name": "stderr",
     "output_type": "stream",
     "text": [
      "[I 2020-09-25 10:51:56,627] Trial 8 finished with value: 13056147.430567926 and parameters: {'n_estimators': 105, 'max_depth': 14, 'min_child_weight': 1, 'subsample': 0.6, 'colsample_bytree': 0.6}. Best is trial 3 with value: 11218389.459529381.\n"
     ]
    },
    {
     "name": "stdout",
     "output_type": "stream",
     "text": [
      "Training xgb:\n"
     ]
    },
    {
     "name": "stderr",
     "output_type": "stream",
     "text": [
      "[I 2020-09-25 10:51:57,362] Trial 9 finished with value: 12026610.106642613 and parameters: {'n_estimators': 153, 'max_depth': 7, 'min_child_weight': 1, 'subsample': 0.8, 'colsample_bytree': 0.5}. Best is trial 3 with value: 11218389.459529381.\n"
     ]
    },
    {
     "name": "stdout",
     "output_type": "stream",
     "text": [
      "Training xgb:\n"
     ]
    },
    {
     "name": "stderr",
     "output_type": "stream",
     "text": [
      "[I 2020-09-25 10:51:58,159] Trial 10 finished with value: 11597476.041008266 and parameters: {'n_estimators': 132, 'max_depth': 5, 'min_child_weight': 2, 'subsample': 0.9, 'colsample_bytree': 0.9}. Best is trial 3 with value: 11218389.459529381.\n"
     ]
    },
    {
     "name": "stdout",
     "output_type": "stream",
     "text": [
      "Training xgb:\n"
     ]
    },
    {
     "name": "stderr",
     "output_type": "stream",
     "text": [
      "[I 2020-09-25 10:51:58,462] Trial 11 finished with value: 10868064.331544386 and parameters: {'n_estimators': 60, 'max_depth': 5, 'min_child_weight': 4, 'subsample': 0.9, 'colsample_bytree': 0.6}. Best is trial 11 with value: 10868064.331544386.\n"
     ]
    },
    {
     "name": "stdout",
     "output_type": "stream",
     "text": [
      "Training xgb:\n"
     ]
    },
    {
     "name": "stderr",
     "output_type": "stream",
     "text": [
      "[I 2020-09-25 10:51:58,831] Trial 12 finished with value: 10973154.97820005 and parameters: {'n_estimators': 63, 'max_depth': 5, 'min_child_weight': 2, 'subsample': 0.9, 'colsample_bytree': 0.8}. Best is trial 11 with value: 10868064.331544386.\n"
     ]
    },
    {
     "name": "stdout",
     "output_type": "stream",
     "text": [
      "Training xgb:\n"
     ]
    },
    {
     "name": "stderr",
     "output_type": "stream",
     "text": [
      "[I 2020-09-25 10:51:59,418] Trial 13 finished with value: 11634280.361071354 and parameters: {'n_estimators': 60, 'max_depth': 8, 'min_child_weight': 2, 'subsample': 0.9, 'colsample_bytree': 0.9}. Best is trial 11 with value: 10868064.331544386.\n"
     ]
    },
    {
     "name": "stdout",
     "output_type": "stream",
     "text": [
      "Training xgb:\n"
     ]
    },
    {
     "name": "stderr",
     "output_type": "stream",
     "text": [
      "[I 2020-09-25 10:51:59,783] Trial 14 finished with value: 11125490.169113418 and parameters: {'n_estimators': 67, 'max_depth': 5, 'min_child_weight': 3, 'subsample': 0.7, 'colsample_bytree': 0.8}. Best is trial 11 with value: 10868064.331544386.\n"
     ]
    },
    {
     "name": "stdout",
     "output_type": "stream",
     "text": [
      "Training xgb:\n"
     ]
    },
    {
     "name": "stderr",
     "output_type": "stream",
     "text": [
      "[I 2020-09-25 10:52:00,286] Trial 15 finished with value: 11442046.52202015 and parameters: {'n_estimators': 62, 'max_depth': 7, 'min_child_weight': 2, 'subsample': 0.9, 'colsample_bytree': 0.8}. Best is trial 11 with value: 10868064.331544386.\n"
     ]
    },
    {
     "name": "stdout",
     "output_type": "stream",
     "text": [
      "Training xgb:\n"
     ]
    },
    {
     "name": "stderr",
     "output_type": "stream",
     "text": [
      "[I 2020-09-25 10:52:00,990] Trial 16 finished with value: 12082154.000015551 and parameters: {'n_estimators': 83, 'max_depth': 12, 'min_child_weight': 4, 'subsample': 0.8, 'colsample_bytree': 0.6}. Best is trial 11 with value: 10868064.331544386.\n"
     ]
    },
    {
     "name": "stdout",
     "output_type": "stream",
     "text": [
      "Training xgb:\n"
     ]
    },
    {
     "name": "stderr",
     "output_type": "stream",
     "text": [
      "[I 2020-09-25 10:52:02,025] Trial 17 finished with value: 12447762.62365166 and parameters: {'n_estimators': 100, 'max_depth': 9, 'min_child_weight': 2, 'subsample': 0.9, 'colsample_bytree': 0.9}. Best is trial 11 with value: 10868064.331544386.\n"
     ]
    },
    {
     "name": "stdout",
     "output_type": "stream",
     "text": [
      "Training xgb:\n"
     ]
    },
    {
     "name": "stderr",
     "output_type": "stream",
     "text": [
      "[I 2020-09-25 10:52:02,395] Trial 18 finished with value: 11000001.039441798 and parameters: {'n_estimators': 76, 'max_depth': 6, 'min_child_weight': 3, 'subsample': 0.8, 'colsample_bytree': 0.5}. Best is trial 11 with value: 10868064.331544386.\n"
     ]
    },
    {
     "name": "stdout",
     "output_type": "stream",
     "text": [
      "Training xgb:\n"
     ]
    },
    {
     "name": "stderr",
     "output_type": "stream",
     "text": [
      "[I 2020-09-25 10:52:03,054] Trial 19 finished with value: 11985457.355203032 and parameters: {'n_estimators': 121, 'max_depth': 6, 'min_child_weight': 2, 'subsample': 0.6, 'colsample_bytree': 0.7}. Best is trial 11 with value: 10868064.331544386.\n"
     ]
    },
    {
     "name": "stdout",
     "output_type": "stream",
     "text": [
      "Training xgb:\n"
     ]
    },
    {
     "name": "stderr",
     "output_type": "stream",
     "text": [
      "[I 2020-09-25 10:52:03,517] Trial 20 finished with value: 11402295.804119715 and parameters: {'n_estimators': 60, 'max_depth': 7, 'min_child_weight': 3, 'subsample': 0.9, 'colsample_bytree': 0.8}. Best is trial 11 with value: 10868064.331544386.\n"
     ]
    },
    {
     "name": "stdout",
     "output_type": "stream",
     "text": [
      "Training xgb:\n"
     ]
    },
    {
     "name": "stderr",
     "output_type": "stream",
     "text": [
      "[I 2020-09-25 10:52:03,816] Trial 21 finished with value: 10836478.748877956 and parameters: {'n_estimators': 73, 'max_depth': 5, 'min_child_weight': 4, 'subsample': 0.8, 'colsample_bytree': 0.5}. Best is trial 21 with value: 10836478.748877956.\n"
     ]
    },
    {
     "name": "stdout",
     "output_type": "stream",
     "text": [
      "Training xgb:\n"
     ]
    },
    {
     "name": "stderr",
     "output_type": "stream",
     "text": [
      "[I 2020-09-25 10:52:04,114] Trial 22 finished with value: 10825108.859450543 and parameters: {'n_estimators': 74, 'max_depth': 5, 'min_child_weight': 4, 'subsample': 0.8, 'colsample_bytree': 0.5}. Best is trial 22 with value: 10825108.859450543.\n"
     ]
    },
    {
     "name": "stdout",
     "output_type": "stream",
     "text": [
      "Training xgb:\n"
     ]
    },
    {
     "name": "stderr",
     "output_type": "stream",
     "text": [
      "[I 2020-09-25 10:52:04,516] Trial 23 finished with value: 11157046.860059652 and parameters: {'n_estimators': 91, 'max_depth': 6, 'min_child_weight': 4, 'subsample': 0.7, 'colsample_bytree': 0.5}. Best is trial 22 with value: 10825108.859450543.\n"
     ]
    },
    {
     "name": "stdout",
     "output_type": "stream",
     "text": [
      "Training xgb:\n"
     ]
    },
    {
     "name": "stderr",
     "output_type": "stream",
     "text": [
      "[I 2020-09-25 10:52:04,812] Trial 24 finished with value: 10836478.748877956 and parameters: {'n_estimators': 73, 'max_depth': 5, 'min_child_weight': 4, 'subsample': 0.8, 'colsample_bytree': 0.5}. Best is trial 22 with value: 10825108.859450543.\n"
     ]
    },
    {
     "name": "stdout",
     "output_type": "stream",
     "text": [
      "Training xgb:\n"
     ]
    },
    {
     "name": "stderr",
     "output_type": "stream",
     "text": [
      "[I 2020-09-25 10:52:05,206] Trial 25 finished with value: 11533853.733441401 and parameters: {'n_estimators': 73, 'max_depth': 8, 'min_child_weight': 4, 'subsample': 0.8, 'colsample_bytree': 0.5}. Best is trial 22 with value: 10825108.859450543.\n"
     ]
    },
    {
     "name": "stdout",
     "output_type": "stream",
     "text": [
      "Training xgb:\n"
     ]
    },
    {
     "name": "stderr",
     "output_type": "stream",
     "text": [
      "[I 2020-09-25 10:52:05,584] Trial 26 finished with value: 11091906.90109059 and parameters: {'n_estimators': 88, 'max_depth': 6, 'min_child_weight': 4, 'subsample': 0.7, 'colsample_bytree': 0.5}. Best is trial 22 with value: 10825108.859450543.\n"
     ]
    },
    {
     "name": "stdout",
     "output_type": "stream",
     "text": [
      "Training xgb:\n"
     ]
    },
    {
     "name": "stderr",
     "output_type": "stream",
     "text": [
      "[I 2020-09-25 10:52:06,136] Trial 27 finished with value: 11577154.097903993 and parameters: {'n_estimators': 117, 'max_depth': 7, 'min_child_weight': 4, 'subsample': 0.8, 'colsample_bytree': 0.5}. Best is trial 22 with value: 10825108.859450543.\n"
     ]
    },
    {
     "name": "stdout",
     "output_type": "stream",
     "text": [
      "Training xgb:\n"
     ]
    },
    {
     "name": "stderr",
     "output_type": "stream",
     "text": [
      "[I 2020-09-25 10:52:06,786] Trial 28 finished with value: 12051900.793633163 and parameters: {'n_estimators': 97, 'max_depth': 9, 'min_child_weight': 4, 'subsample': 0.8, 'colsample_bytree': 0.6}. Best is trial 22 with value: 10825108.859450543.\n"
     ]
    },
    {
     "name": "stdout",
     "output_type": "stream",
     "text": [
      "Training xgb:\n"
     ]
    },
    {
     "name": "stderr",
     "output_type": "stream",
     "text": [
      "[I 2020-09-25 10:52:07,077] Trial 29 finished with value: 10881001.853390148 and parameters: {'n_estimators': 73, 'max_depth': 5, 'min_child_weight': 4, 'subsample': 0.6, 'colsample_bytree': 0.5}. Best is trial 22 with value: 10825108.859450543.\n"
     ]
    },
    {
     "name": "stdout",
     "output_type": "stream",
     "text": [
      "Training xgb:\n"
     ]
    },
    {
     "name": "stderr",
     "output_type": "stream",
     "text": [
      "[I 2020-09-25 10:52:07,516] Trial 30 finished with value: 11249119.329825407 and parameters: {'n_estimators': 87, 'max_depth': 6, 'min_child_weight': 3, 'subsample': 0.7, 'colsample_bytree': 0.6}. Best is trial 22 with value: 10825108.859450543.\n"
     ]
    },
    {
     "name": "stdout",
     "output_type": "stream",
     "text": [
      "Training xgb:\n"
     ]
    },
    {
     "name": "stderr",
     "output_type": "stream",
     "text": [
      "[I 2020-09-25 10:52:07,829] Trial 31 finished with value: 10782112.623858122 and parameters: {'n_estimators': 69, 'max_depth': 5, 'min_child_weight': 4, 'subsample': 0.8, 'colsample_bytree': 0.6}. Best is trial 31 with value: 10782112.623858122.\n"
     ]
    },
    {
     "name": "stdout",
     "output_type": "stream",
     "text": [
      "Training xgb:\n"
     ]
    },
    {
     "name": "stderr",
     "output_type": "stream",
     "text": [
      "[I 2020-09-25 10:52:08,112] Trial 32 finished with value: 10828273.07887419 and parameters: {'n_estimators': 71, 'max_depth': 5, 'min_child_weight': 4, 'subsample': 0.8, 'colsample_bytree': 0.5}. Best is trial 31 with value: 10782112.623858122.\n"
     ]
    },
    {
     "name": "stdout",
     "output_type": "stream",
     "text": [
      "Training xgb:\n"
     ]
    },
    {
     "name": "stderr",
     "output_type": "stream",
     "text": [
      "[I 2020-09-25 10:52:08,482] Trial 33 finished with value: 11005379.545532184 and parameters: {'n_estimators': 68, 'max_depth': 6, 'min_child_weight': 4, 'subsample': 0.8, 'colsample_bytree': 0.6}. Best is trial 31 with value: 10782112.623858122.\n"
     ]
    },
    {
     "name": "stdout",
     "output_type": "stream",
     "text": [
      "Training xgb:\n"
     ]
    },
    {
     "name": "stderr",
     "output_type": "stream",
     "text": [
      "[I 2020-09-25 10:52:08,798] Trial 34 finished with value: 10899029.767956557 and parameters: {'n_estimators': 84, 'max_depth': 5, 'min_child_weight': 4, 'subsample': 0.7, 'colsample_bytree': 0.5}. Best is trial 31 with value: 10782112.623858122.\n"
     ]
    },
    {
     "name": "stdout",
     "output_type": "stream",
     "text": [
      "Training xgb:\n"
     ]
    },
    {
     "name": "stderr",
     "output_type": "stream",
     "text": [
      "[I 2020-09-25 10:52:09,340] Trial 35 finished with value: 11695170.124810357 and parameters: {'n_estimators': 96, 'max_depth': 7, 'min_child_weight': 3, 'subsample': 0.8, 'colsample_bytree': 0.6}. Best is trial 31 with value: 10782112.623858122.\n"
     ]
    },
    {
     "name": "stdout",
     "output_type": "stream",
     "text": [
      "Training xgb:\n"
     ]
    },
    {
     "name": "stderr",
     "output_type": "stream",
     "text": [
      "[I 2020-09-25 10:52:09,706] Trial 36 finished with value: 11233047.688101051 and parameters: {'n_estimators': 81, 'max_depth': 6, 'min_child_weight': 4, 'subsample': 0.8, 'colsample_bytree': 0.5}. Best is trial 31 with value: 10782112.623858122.\n"
     ]
    },
    {
     "name": "stdout",
     "output_type": "stream",
     "text": [
      "Training xgb:\n"
     ]
    },
    {
     "name": "stderr",
     "output_type": "stream",
     "text": [
      "[I 2020-09-25 10:52:10,453] Trial 37 finished with value: 11697311.842859453 and parameters: {'n_estimators': 178, 'max_depth': 5, 'min_child_weight': 4, 'subsample': 0.7, 'colsample_bytree': 0.6}. Best is trial 31 with value: 10782112.623858122.\n"
     ]
    },
    {
     "name": "stdout",
     "output_type": "stream",
     "text": [
      "Training xgb:\n"
     ]
    },
    {
     "name": "stderr",
     "output_type": "stream",
     "text": [
      "[I 2020-09-25 10:52:10,938] Trial 38 finished with value: 11870975.326029394 and parameters: {'n_estimators': 68, 'max_depth': 8, 'min_child_weight': 3, 'subsample': 0.8, 'colsample_bytree': 0.7}. Best is trial 31 with value: 10782112.623858122.\n"
     ]
    },
    {
     "name": "stdout",
     "output_type": "stream",
     "text": [
      "Training xgb:\n"
     ]
    },
    {
     "name": "stderr",
     "output_type": "stream",
     "text": [
      "[I 2020-09-25 10:52:11,842] Trial 39 finished with value: 12713459.33630989 and parameters: {'n_estimators': 140, 'max_depth': 13, 'min_child_weight': 4, 'subsample': 0.7, 'colsample_bytree': 0.5}. Best is trial 31 with value: 10782112.623858122.\n"
     ]
    },
    {
     "name": "stdout",
     "output_type": "stream",
     "text": [
      "Training xgb:\n"
     ]
    },
    {
     "name": "stderr",
     "output_type": "stream",
     "text": [
      "[I 2020-09-25 10:52:12,360] Trial 40 finished with value: 11395717.551213406 and parameters: {'n_estimators': 106, 'max_depth': 6, 'min_child_weight': 4, 'subsample': 0.8, 'colsample_bytree': 0.6}. Best is trial 31 with value: 10782112.623858122.\n"
     ]
    },
    {
     "name": "stdout",
     "output_type": "stream",
     "text": [
      "Training xgb:\n"
     ]
    },
    {
     "name": "stderr",
     "output_type": "stream",
     "text": [
      "[I 2020-09-25 10:52:12,659] Trial 41 finished with value: 10828604.002516562 and parameters: {'n_estimators': 76, 'max_depth': 5, 'min_child_weight': 4, 'subsample': 0.8, 'colsample_bytree': 0.5}. Best is trial 31 with value: 10782112.623858122.\n"
     ]
    },
    {
     "name": "stdout",
     "output_type": "stream",
     "text": [
      "Training xgb:\n"
     ]
    },
    {
     "name": "stderr",
     "output_type": "stream",
     "text": [
      "[I 2020-09-25 10:52:12,988] Trial 42 finished with value: 10853333.615449764 and parameters: {'n_estimators': 78, 'max_depth': 5, 'min_child_weight': 4, 'subsample': 0.8, 'colsample_bytree': 0.5}. Best is trial 31 with value: 10782112.623858122.\n"
     ]
    },
    {
     "name": "stdout",
     "output_type": "stream",
     "text": [
      "Training xgb:\n"
     ]
    },
    {
     "name": "stderr",
     "output_type": "stream",
     "text": [
      "[I 2020-09-25 10:52:13,278] Trial 43 finished with value: 10838772.546650272 and parameters: {'n_estimators': 69, 'max_depth': 5, 'min_child_weight': 4, 'subsample': 0.8, 'colsample_bytree': 0.5}. Best is trial 31 with value: 10782112.623858122.\n"
     ]
    },
    {
     "name": "stdout",
     "output_type": "stream",
     "text": [
      "Training xgb:\n"
     ]
    },
    {
     "name": "stderr",
     "output_type": "stream",
     "text": [
      "[I 2020-09-25 10:52:13,730] Trial 44 finished with value: 11286339.901301648 and parameters: {'n_estimators': 91, 'max_depth': 7, 'min_child_weight': 4, 'subsample': 0.9, 'colsample_bytree': 0.5}. Best is trial 31 with value: 10782112.623858122.\n"
     ]
    },
    {
     "name": "stdout",
     "output_type": "stream",
     "text": [
      "Training xgb:\n"
     ]
    },
    {
     "name": "stderr",
     "output_type": "stream",
     "text": [
      "[I 2020-09-25 10:52:14,100] Trial 45 finished with value: 11221918.88408511 and parameters: {'n_estimators': 80, 'max_depth': 6, 'min_child_weight': 4, 'subsample': 0.8, 'colsample_bytree': 0.5}. Best is trial 31 with value: 10782112.623858122.\n"
     ]
    },
    {
     "name": "stdout",
     "output_type": "stream",
     "text": [
      "Training xgb:\n"
     ]
    },
    {
     "name": "stderr",
     "output_type": "stream",
     "text": [
      "[I 2020-09-25 10:52:14,412] Trial 46 finished with value: 10776799.435960306 and parameters: {'n_estimators': 64, 'max_depth': 5, 'min_child_weight': 3, 'subsample': 0.8, 'colsample_bytree': 0.6}. Best is trial 46 with value: 10776799.435960306.\n"
     ]
    },
    {
     "name": "stdout",
     "output_type": "stream",
     "text": [
      "Training xgb:\n"
     ]
    },
    {
     "name": "stderr",
     "output_type": "stream",
     "text": [
      "[I 2020-09-25 10:52:14,720] Trial 47 finished with value: 11125538.507920776 and parameters: {'n_estimators': 64, 'max_depth': 5, 'min_child_weight': 3, 'subsample': 0.7, 'colsample_bytree': 0.7}. Best is trial 46 with value: 10776799.435960306.\n"
     ]
    },
    {
     "name": "stdout",
     "output_type": "stream",
     "text": [
      "Training xgb:\n"
     ]
    },
    {
     "name": "stderr",
     "output_type": "stream",
     "text": [
      "[I 2020-09-25 10:52:15,847] Trial 48 finished with value: 12481129.545107618 and parameters: {'n_estimators': 200, 'max_depth': 7, 'min_child_weight': 3, 'subsample': 0.9, 'colsample_bytree': 0.6}. Best is trial 46 with value: 10776799.435960306.\n"
     ]
    },
    {
     "name": "stdout",
     "output_type": "stream",
     "text": [
      "Training xgb:\n"
     ]
    },
    {
     "name": "stderr",
     "output_type": "stream",
     "text": [
      "[I 2020-09-25 10:52:16,434] Trial 49 finished with value: 11873269.349778773 and parameters: {'n_estimators': 61, 'max_depth': 11, 'min_child_weight': 3, 'subsample': 0.8, 'colsample_bytree': 0.7}. Best is trial 46 with value: 10776799.435960306.\n"
     ]
    }
   ],
   "source": [
    "#Run cell for score optimization for xgb.\n",
    "study=optuna.create_study() \n",
    "study.optimize(objective,n_trials=50)"
   ]
  },
  {
   "cell_type": "code",
   "execution_count": 161,
   "metadata": {},
   "outputs": [
    {
     "data": {
      "text/plain": [
       "XGBRegressor(base_score=0.5, booster='gbtree', colsample_bylevel=1,\n",
       "             colsample_bynode=1, colsample_bytree=0.6, gamma=0, gpu_id=-1,\n",
       "             importance_type='gain', interaction_constraints='',\n",
       "             learning_rate=0.300000012, max_delta_step=0, max_depth=5,\n",
       "             min_child_weight=3, missing=nan, monotone_constraints='()',\n",
       "             n_estimators=64, n_jobs=4, num_parallel_tree=1, random_state=42,\n",
       "             reg_alpha=0, reg_lambda=1, scale_pos_weight=1, subsample=0.8,\n",
       "             tree_method='exact', validate_parameters=1, verbosity=None)"
      ]
     },
     "execution_count": 161,
     "metadata": {},
     "output_type": "execute_result"
    }
   ],
   "source": [
    "reg_xgb=xgb.XGBRegressor(**study.best_params, random_state=42, n_jobs=4)\n",
    "reg_xgb.fit(X_train,y_train)"
   ]
  },
  {
   "cell_type": "code",
   "execution_count": 165,
   "metadata": {},
   "outputs": [],
   "source": [
    "price_prediction = reg_xgb.predict(X_test)"
   ]
  },
  {
   "cell_type": "code",
   "execution_count": 188,
   "metadata": {},
   "outputs": [
    {
     "data": {
      "text/plain": [
       "[('num_bedroom', 0.053485315),\n",
       " ('bedroom_width', 0.0),\n",
       " ('bedroom_height', 0.0),\n",
       " ('bathroom_width', 0.0),\n",
       " ('bathroom_height', 0.0),\n",
       " ('garage_width', 0.0),\n",
       " ('garage_height', 0.0),\n",
       " ('erf_size', 0.10885242),\n",
       " ('bath_amenities', 0.06465491),\n",
       " ('car_parks', 0.04969031),\n",
       " ('location_2.0', 0.07246258),\n",
       " ('location_ ', 0.0),\n",
       " ('location_1 Caleb Street', 0.0),\n",
       " ('location_1 DOCK Road', 0.0),\n",
       " ('location_1 First Avenue ', 0.0),\n",
       " ('location_1 Forest Glade ', 0.0),\n",
       " ('location_1 Jane Avenue', 0.0),\n",
       " ('location_1 KLOOF STREET ', 0.0),\n",
       " ('location_1 Long Street', 0.0),\n",
       " ('location_1 Phillips road', 0.0),\n",
       " ('location_1 Purley Street', 0.0),\n",
       " ('location_1 Reform Road ', 0.0),\n",
       " ('location_1 Schaap Road', 0.0),\n",
       " (\"location_1 St John's Road \", 0.0),\n",
       " ('location_1 Upper Quarterdeck  Road', 0.0),\n",
       " ('location_1 Ventnor ', 0.0),\n",
       " ('location_1 Victoria Walk', 0.0),\n",
       " ('location_10 Blenheim Road', 0.0),\n",
       " ('location_10 East Lake  Way', 0.0),\n",
       " ('location_10 Greenfield Road', 0.0),\n",
       " ('location_10 Lilac Circle', 0.0),\n",
       " ('location_10 Lomond Street', 0.0),\n",
       " ('location_10 Nursery  Road', 0.0),\n",
       " ('location_10 Oliver  Road', 0.0),\n",
       " ('location_10 Orstende ', 0.0),\n",
       " ('location_10 Seacliffe Road', 0.0),\n",
       " ('location_10 Trenance Road', 0.0),\n",
       " ('location_103 ROODEBLOEM ROAD ', 0.0),\n",
       " ('location_103 Regent Road', 0.0),\n",
       " ('location_108 Constantiaberg Crescent', 0.0),\n",
       " ('location_109 1st Avenue', 0.0),\n",
       " ('location_11 Cranko Avenue', 0.0),\n",
       " ('location_11 Greenwood  Walk', 0.0),\n",
       " ('location_11 Gumtree ', 0.0),\n",
       " ('location_11 Norman Steps ', 0.0),\n",
       " ('location_11 Normandy Crescent', 0.0),\n",
       " ('location_1102 Doncaster, ', 0.0),\n",
       " ('location_112 Buitenkant Street', 0.0),\n",
       " ('location_114 Main Road', 0.0),\n",
       " ('location_118 Fisherman Street', 0.0),\n",
       " ('location_12 Bahia Bay ', 0.0),\n",
       " ('location_12 Brooke Street', 0.0),\n",
       " ('location_12 Brooke Street ', 0.012491607),\n",
       " ('location_12 Green Valley Close', 0.0),\n",
       " ('location_12 lister Road', 0.0),\n",
       " ('location_121 Range Road ', 0.0),\n",
       " ('location_13  Culm Road ', 0.0),\n",
       " ('location_13 Ednam Mews ', 0.0),\n",
       " ('location_13 Greenfields Road', 0.0),\n",
       " ('location_13 Grotto /road ', 0.0),\n",
       " ('location_13 McKinley Road', 0.0),\n",
       " ('location_13 Newport Street', 0.0),\n",
       " ('location_13 Ranelagh Road ', 0.0),\n",
       " ('location_13 Schilpadvlei   Road', 0.0),\n",
       " ('location_135 Campground Road', 0.0),\n",
       " ('location_139 Main Road ', 0.0),\n",
       " ('location_13A Loch Road', 0.0),\n",
       " ('location_14 Belmont Avenue', 0.0),\n",
       " ('location_14 Campbell Street', 0.0),\n",
       " ('location_14 Duckitt Avenue', 0.0),\n",
       " ('location_14 Portlands Road', 0.0),\n",
       " ('location_14 St Michaels Road', 0.0),\n",
       " ('location_14 Voorjaar Street', 0.0),\n",
       " ('location_14 Windsor  Road', 0.0),\n",
       " ('location_14 Woodley Road', 0.0),\n",
       " ('location_143 Madeira  Drive', 0.0),\n",
       " ('location_14A Tiverton Road', 0.0),\n",
       " ('location_15 Cumnor Avenue', 0.0),\n",
       " ('location_15 Ormskirk  Street', 0.0),\n",
       " ('location_155 Macgregor Street', 0.0),\n",
       " ('location_16 Crescent Road', 0.0),\n",
       " ('location_16 Derbyshire ', 0.0),\n",
       " ('location_16 Kinkleway Close ', 0.0),\n",
       " ('location_161 Main Road ', 0.0),\n",
       " ('location_162 Churchill Road ', 0.0),\n",
       " ('location_165637 Lower Long Street ', 0.0),\n",
       " ('location_17 Alphonse Way', 0.0),\n",
       " ('location_17 Barnett road', 0.0),\n",
       " ('location_17 Gardenia  Avenue', 0.0),\n",
       " ('location_17 Monterey Avenue', 0.0),\n",
       " ('location_17 Morton Road', 0.0),\n",
       " ('location_17 Plumtree lodge ', 0.0),\n",
       " ('location_17 Sunrise Road, ', 0.0),\n",
       " ('location_170 Ocean View Drive', 0.0),\n",
       " ('location_174 Milner Road', 0.0),\n",
       " ('location_18 Brownlow Street', 0.0),\n",
       " ('location_18 Mount Nelson Road', 0.0),\n",
       " ('location_18 Mount Road  ', 0.0),\n",
       " ('location_18 Spoon Street', 0.0),\n",
       " ('location_19  Woodford Avenue', 0.0),\n",
       " ('location_19 Eugene Marias Avenue', 0.0),\n",
       " ('location_19 Parliament Street ', 0.0),\n",
       " ('location_19 Victory Street ', 0.0),\n",
       " ('location_198 Boys Drive Extension ', 0.0),\n",
       " ('location_2 Constantiaberg Close', 0.0),\n",
       " ('location_2 Derby Court ', 0.0),\n",
       " ('location_2 Grape Lane ', 0.0),\n",
       " ('location_2 Leervis Close', 0.0),\n",
       " ('location_20  Rhodesia road  ', 0.0),\n",
       " ('location_20 Egrets Way', 0.0),\n",
       " ('location_20 Royal Road', 0.0),\n",
       " ('location_200 Boyes Drive ', 0.0),\n",
       " ('location_20A St. Johns Road', 0.0),\n",
       " ('location_21 Ednam Road', 0.0),\n",
       " ('location_21 ROYAL ROAD ', 0.0),\n",
       " ('location_21 Rosmead  Avenue', 0.0),\n",
       " ('location_21 Royal Road', 0.0),\n",
       " ('location_21 Welgemeend Road', 0.0),\n",
       " ('location_213 Main Road', 0.0),\n",
       " ('location_22 Campground, Rosebank, Cape Town ', 0.0),\n",
       " ('location_22 Constitution Street', 0.0),\n",
       " ('location_22 Princess Avenue', 0.0),\n",
       " ('location_229 Main Road ', 0.0),\n",
       " ('location_23 Greenwich Road ', 0.0),\n",
       " ('location_23 Lavender Crescent', 0.0),\n",
       " ('location_23 Sasmeer Road', 0.0),\n",
       " ('location_243 Lower Main Road', 0.0),\n",
       " ('location_248 Rosmead Avenue', 0.0),\n",
       " ('location_25 Cedar Road', 0.0),\n",
       " ('location_25 Central Avenue', 0.0),\n",
       " ('location_25 Eksteen Avenue', 0.0),\n",
       " ('location_25 Protea Road', 0.0),\n",
       " ('location_25 St Andrews ', 0.0),\n",
       " ('location_255 Main Road', 0.0),\n",
       " ('location_26 Aiken Road', 0.0),\n",
       " ('location_26 Myrtle Road', 0.0),\n",
       " ('location_26 Prince Henry Crescent', 0.0),\n",
       " ('location_264 Main Road', 0.0),\n",
       " ('location_27  Devon  Street', 0.0),\n",
       " ('location_27 Service Road', 0.0),\n",
       " ('location_28 Avonduur Road', 0.0),\n",
       " ('location_28 Camargue ', 0.0),\n",
       " ('location_28 Ednam Street', 0.0),\n",
       " ('location_28 Sunset Crescent ', 0.0),\n",
       " ('location_29 Camelia Close', 0.0),\n",
       " ('location_29 Clevedon road ', 0.0),\n",
       " ('location_29 Ringwood  Drive', 0.0),\n",
       " ('location_2A Bridge Street  ', 0.0),\n",
       " ('location_2a Delaney Road ', 0.0),\n",
       " ('location_3  Conifer Way', 0.0),\n",
       " ('location_3  Welgemeend Street', 0.0),\n",
       " ('location_3 Broadwalk ', 0.0),\n",
       " ('location_3 Covendon Road', 0.0),\n",
       " ('location_3 Knutsford Road', 0.0),\n",
       " ('location_3 Soetvlei Avenue ', 0.0),\n",
       " ('location_3 St Joans  Road', 0.0),\n",
       " ('location_30 Clydebank Road', 0.0),\n",
       " ('location_31 BRICKFIELD ROAD ', 0.0),\n",
       " ('location_31 Brickfield Road', 0.0),\n",
       " ('location_32 Duckitt Avenue ', 0.0),\n",
       " ('location_32 Rylands ', 0.0),\n",
       " ('location_32B Mile End Road', 0.0),\n",
       " ('location_33 Bishopscourt Road ', 0.0),\n",
       " ('location_33 Driver Road', 0.0),\n",
       " ('location_33 Herengracht Street', 0.0),\n",
       " ('location_359 Main Road', 0.0),\n",
       " ('location_36 De Hoop Avenue', 0.0),\n",
       " ('location_37 Battle Ridge Road', 0.0),\n",
       " ('location_37 Beach Road', 0.0),\n",
       " ('location_37 Sunwood Drive ', 0.0),\n",
       " ('location_38 Bell Road', 0.0),\n",
       " ('location_38 Clifton Road', 0.0),\n",
       " ('location_39  Hely  Street', 0.0),\n",
       " ('location_39 Grove ', 0.0),\n",
       " ('location_39 Rosmead Avenue', 0.0),\n",
       " ('location_39 St Catherine Road', 0.0),\n",
       " ('location_3A Adelaide  Road', 0.0),\n",
       " ('location_4  Braeside Road', 0.0),\n",
       " ('location_4 Bell Road', 0.0),\n",
       " ('location_4 Birmingham  Road', 0.0),\n",
       " ('location_4 Cutter Close', 0.0),\n",
       " ('location_4 Hermitage Road ', 0.0),\n",
       " ('location_4 Kloof Nek Road', 0.0),\n",
       " ('location_4 La Ruelle ', 0.0),\n",
       " ('location_4 Plumtree lodge ', 0.0),\n",
       " ('location_40 Bell Road ', 0.0),\n",
       " ('location_40 Trill Road ', 0.0),\n",
       " ('location_40 Wessels Road ', 0.0),\n",
       " ('location_400 Govan Mbeki Road', 0.0),\n",
       " ('location_412 Govan Mbeki Road', 0.0),\n",
       " ('location_423 Main Road', 0.0),\n",
       " ('location_423 Main Road ', 0.0),\n",
       " ('location_43 Ladies Mile ', 0.0),\n",
       " ('location_43 Valentino Drive', 0.0),\n",
       " ('location_44 Sasmeer  Road', 0.0),\n",
       " ('location_44 St Michaels ', 0.0),\n",
       " ('location_44 Strubens Road', 0.0),\n",
       " ('location_45 Chapel  Street', 0.0),\n",
       " ('location_47 Prince Henry Crescent', 0.0),\n",
       " ('location_48 Spurwing ', 0.0),\n",
       " ('location_49 Battle Ridge ', 0.0),\n",
       " ('location_4A Camp Road  ', 0.0),\n",
       " ('location_4A Purley Street', 0.0),\n",
       " ('location_4B Camp Road  ', 0.0),\n",
       " ('location_4C Camp Road  ', 0.0),\n",
       " ('location_4a Pollsmoor Road ', 0.0),\n",
       " ('location_5 Beyers Road', 0.0),\n",
       " ('location_5 Burnham Road', 0.0),\n",
       " ('location_5 Cariginan Lane', 0.0),\n",
       " ('location_5 Chelmsforsd ', 0.0),\n",
       " ('location_5 Devonshire Road', 0.0),\n",
       " ('location_5 East Lee ', 0.0),\n",
       " ('location_5 Govan Mbeki Drive ', 0.0),\n",
       " ('location_5 Greenville road', 0.0),\n",
       " ('location_5 Hellenburgh Road', 0.0),\n",
       " ('location_5 Howe ', 0.0),\n",
       " ('location_5 Old Boyes Drive  ', 0.0),\n",
       " ('location_5 Petricia Road ', 0.0),\n",
       " ('location_501 High Road', 0.0),\n",
       " ('location_513 Mill  Street', 0.0),\n",
       " ('location_526 Lansdowne  Road', 0.0),\n",
       " ('location_53 Main Road', 0.0),\n",
       " ('location_54 Regent Street', 0.0),\n",
       " ('location_54 Rosmead Avenue ', 0.0),\n",
       " ('location_54 Shortmarket Street ', 0.0),\n",
       " ('location_57 Victoria Road', 0.0),\n",
       " ('location_58 Valentino ', 0.0),\n",
       " ('location_59 Waterloo  Road', 0.0),\n",
       " ('location_6 Burg Road', 0.0),\n",
       " ('location_6 Crescent Road', 0.0),\n",
       " ('location_6 Kromboom ', 0.0),\n",
       " ('location_6 Mead Way', 0.0),\n",
       " ('location_6 Niblick Street', 0.0),\n",
       " ('location_6 Paddy Close', 0.0),\n",
       " ('location_6 Pinewood Road', 0.0),\n",
       " ('location_6 Portadown road', 0.0),\n",
       " ('location_6 Solomons Road', 0.0),\n",
       " ('location_6 The Vines Road', 0.0),\n",
       " ('location_6 UPPER CHAMBERLAIN ', 0.0),\n",
       " ('location_60 Bellevue  Street', 0.0),\n",
       " ('location_601 Emeraldene, 15 Aliwal Road ', 0.0),\n",
       " ('location_61 Ritchie Street', 0.0),\n",
       " ('location_62 Sandown Road ', 0.0),\n",
       " ('location_63 DOORDRIFT RD ', 0.0),\n",
       " ('location_63 Doordrift Road', 0.0),\n",
       " ('location_64 Ocean View Drive', 0.0),\n",
       " ('location_66 KEEROM STREET ', 0.0),\n",
       " ('location_66 Putney Road ', 0.0),\n",
       " ('location_7  Seagull  Crescent', 0.0),\n",
       " ('location_7 Ardleigh Close', 0.0),\n",
       " ('location_7 Aurora Street', 0.0),\n",
       " ('location_7 Beech Road', 0.0),\n",
       " ('location_7 Disa Place ', 0.0),\n",
       " ('location_7 Fortress ', 0.0),\n",
       " ('location_7 Hugon Road ', 0.0),\n",
       " ('location_7 Zee Close', 0.0),\n",
       " ('location_72 Blomvlei road', 0.0),\n",
       " ('location_74 Milner Road', 0.0),\n",
       " ('location_74D Harfield Road', 0.0),\n",
       " ('location_75 shearwater Road', 0.0),\n",
       " ('location_76 Upper Melbourne Street', 0.0),\n",
       " ('location_78 Roodebloem Road', 0.0),\n",
       " ('location_8 Alexander Road', 0.0),\n",
       " ('location_8 Boshof Avenue', 0.0),\n",
       " ('location_8 Elzeth Road', 0.0),\n",
       " ('location_8 Epworth Road ', 0.0),\n",
       " ('location_8 Harfield Road', 0.0),\n",
       " ('location_8 Isabel Avenue ', 0.0),\n",
       " ('location_8 Malleson Road', 0.0),\n",
       " ('location_8 Royal Road ', 0.0),\n",
       " ('location_8 Watson Road ', 0.0),\n",
       " ('location_80 Belvedere Road', 0.0),\n",
       " ('location_80 Main  Road', 0.0),\n",
       " ('location_81 Kenilworth road', 0.0),\n",
       " ('location_86 Park Road', 0.0),\n",
       " ('location_86 Princessvlei  Road', 0.0),\n",
       " ('location_9 Belfast Road', 0.0),\n",
       " ('location_9 Herschel Road', 0.0),\n",
       " ('location_9 Ilkley Crescent', 0.0),\n",
       " ('location_9 Ivy Lane ', 0.0),\n",
       " ('location_9 Morom  Road', 0.0),\n",
       " ('location_9 Nursery  Road', 0.0),\n",
       " ('location_9 Rifle Road', 0.0),\n",
       " ('location_9 Rutherford  Way', 0.0),\n",
       " ('location_9 St Kilda Close ', 0.0),\n",
       " ('location_92 Kenilworth Village ', 0.0),\n",
       " ('location_94 CHESTER ROAD ', 0.0),\n",
       " ('location_97 Cecil Road', 0.0),\n",
       " ('location_99 Southern Cross ', 0.0),\n",
       " ('location_Bo Kaap', 0.03915361),\n",
       " ('location_Cape Town City Centre', 0.0),\n",
       " ('location_De Waterkant', 0.054155994),\n",
       " ('location_Devils Peak Estate', 0.0),\n",
       " ('location_Foreshore', 0.0),\n",
       " ('location_Gardens', 0.06601539),\n",
       " ('location_Higgovale', 0.073501535),\n",
       " ('location_Mouille Point', 0.0),\n",
       " ('location_Oranjezicht', 0.0726724),\n",
       " ('location_Rondebosch Village ', 0.0),\n",
       " ('location_SCHOONGEZICHT ', 0.0),\n",
       " ('location_Tamboerskloof', 0.08810001),\n",
       " ('location_University Estate', 0.0),\n",
       " ('location_Vredehoek', 0.04480253),\n",
       " ('location_Walmer Estate', 0.08838483),\n",
       " ('location_Woodstock', 0.05575844),\n",
       " ('location_Zonnebloem', 0.055818133)]"
      ]
     },
     "execution_count": 188,
     "metadata": {},
     "output_type": "execute_result"
    }
   ],
   "source": [
    "list(zip(df.columns[0:], reg_xgb.feature_importances_))"
   ]
  },
  {
   "cell_type": "code",
   "execution_count": 189,
   "metadata": {},
   "outputs": [
    {
     "data": {
      "text/plain": [
       "306"
      ]
     },
     "execution_count": 189,
     "metadata": {},
     "output_type": "execute_result"
    }
   ],
   "source": [
    "len(reg_xgb.feature_importances_)"
   ]
  },
  {
   "cell_type": "code",
   "execution_count": 192,
   "metadata": {},
   "outputs": [
    {
     "data": {
      "image/png": "[encoded data removed]",
      "text/plain": [
       "<Figure size 432x288 with 1 Axes>"
      ]
     },
     "metadata": {
      "needs_background": "light"
     },
     "output_type": "display_data"
    }
   ],
   "source": [
    "import matplotlib.pyplot as plt\n",
    "plt.bar(df.columns[0:306], reg_xgb.feature_importances_)\n",
    "plt.xticks(rotation=90)\n",
    "plt.ylabel(\"Feature Importance\")\n",
    "plt.show()"
   ]
  },
  {
   "cell_type": "code",
   "execution_count": 175,
   "metadata": {},
   "outputs": [],
   "source": [
    "#format data for df_output\n",
    "var_test=pd.DataFrame(y_test)\n",
    "actual_prices=var_test.iloc[:,-1].values"
   ]
  },
  {
   "cell_type": "code",
   "execution_count": 183,
   "metadata": {},
   "outputs": [
    {
     "data": {
      "text/html": [
       "<div>\n",
       "<style scoped>\n",
       "    .dataframe tbody tr th:only-of-type {\n",
       "        vertical-align: middle;\n",
       "    }\n",
       "\n",
       "    .dataframe tbody tr th {\n",
       "        vertical-align: top;\n",
       "    }\n",
       "\n",
       "    .dataframe thead th {\n",
       "        text-align: right;\n",
       "    }\n",
       "</style>\n",
       "<table border=\"1\" class=\"dataframe\">\n",
       "  <thead>\n",
       "    <tr style=\"text-align: right;\">\n",
       "      <th></th>\n",
       "      <th>Actual Price</th>\n",
       "      <th>Predicted Price</th>\n",
       "    </tr>\n",
       "  </thead>\n",
       "  <tbody>\n",
       "    <tr>\n",
       "      <th>0</th>\n",
       "      <td>2597542</td>\n",
       "      <td>17187966.0</td>\n",
       "    </tr>\n",
       "    <tr>\n",
       "      <th>1</th>\n",
       "      <td>26112436</td>\n",
       "      <td>21707522.0</td>\n",
       "    </tr>\n",
       "    <tr>\n",
       "      <th>2</th>\n",
       "      <td>20705801</td>\n",
       "      <td>20252620.0</td>\n",
       "    </tr>\n",
       "    <tr>\n",
       "      <th>3</th>\n",
       "      <td>20440459</td>\n",
       "      <td>14912174.0</td>\n",
       "    </tr>\n",
       "    <tr>\n",
       "      <th>4</th>\n",
       "      <td>20681043</td>\n",
       "      <td>18168000.0</td>\n",
       "    </tr>\n",
       "    <tr>\n",
       "      <th>...</th>\n",
       "      <td>...</td>\n",
       "      <td>...</td>\n",
       "    </tr>\n",
       "    <tr>\n",
       "      <th>629</th>\n",
       "      <td>6605528</td>\n",
       "      <td>17028108.0</td>\n",
       "    </tr>\n",
       "    <tr>\n",
       "      <th>630</th>\n",
       "      <td>4043549</td>\n",
       "      <td>18660438.0</td>\n",
       "    </tr>\n",
       "    <tr>\n",
       "      <th>631</th>\n",
       "      <td>36512715</td>\n",
       "      <td>16636678.0</td>\n",
       "    </tr>\n",
       "    <tr>\n",
       "      <th>632</th>\n",
       "      <td>30171887</td>\n",
       "      <td>20788998.0</td>\n",
       "    </tr>\n",
       "    <tr>\n",
       "      <th>633</th>\n",
       "      <td>8664101</td>\n",
       "      <td>21382286.0</td>\n",
       "    </tr>\n",
       "  </tbody>\n",
       "</table>\n",
       "<p>634 rows × 2 columns</p>\n",
       "</div>"
      ],
      "text/plain": [
       "     Actual Price  Predicted Price\n",
       "0         2597542       17187966.0\n",
       "1        26112436       21707522.0\n",
       "2        20705801       20252620.0\n",
       "3        20440459       14912174.0\n",
       "4        20681043       18168000.0\n",
       "..            ...              ...\n",
       "629       6605528       17028108.0\n",
       "630       4043549       18660438.0\n",
       "631      36512715       16636678.0\n",
       "632      30171887       20788998.0\n",
       "633       8664101       21382286.0\n",
       "\n",
       "[634 rows x 2 columns]"
      ]
     },
     "execution_count": 183,
     "metadata": {},
     "output_type": "execute_result"
    }
   ],
   "source": [
    "df_output = pd.DataFrame()\n",
    "df_output['Actual Price'] = actual_prices\n",
    "df_output['Predicted Price'] = price_prediction\n",
    "df_output"
   ]
  },
  {
   "cell_type": "code",
   "execution_count": 193,
   "metadata": {},
   "outputs": [],
   "source": [
    "df_output.to_csv('Predicted_house_price.csv')"
   ]
  },
  {
   "cell_type": "code",
   "execution_count": null,
   "metadata": {},
   "outputs": [],
   "source": []
  }
 ],
 "metadata": {
  "kernelspec": {
   "display_name": "Python 3",
   "language": "python",
   "name": "python3"
  },
  "language_info": {
   "codemirror_mode": {
    "name": "ipython",
    "version": 3
   },
   "file_extension": ".py",
   "mimetype": "text/x-python",
   "name": "python",
   "nbconvert_exporter": "python",
   "pygments_lexer": "ipython3",
   "version": "3.8.3"
  }
 },
 "nbformat": 4,
 "nbformat_minor": 4
}
